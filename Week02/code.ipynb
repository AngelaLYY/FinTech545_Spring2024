{
 "cells": [
  {
   "cell_type": "markdown",
   "id": "f47aa6f2-3f74-41e4-bbc5-ac572ee92a87",
   "metadata": {
    "jp-MarkdownHeadingCollapsed": true,
    "tags": []
   },
   "source": [
    "# Week02 Assignment by Angela Liang"
   ]
  },
  {
   "cell_type": "markdown",
   "id": "e763f207-4469-4b41-b451-79a8c5405c41",
   "metadata": {
    "tags": []
   },
   "source": [
    "# Problem 1\n",
    "Given the dataset in problem1.csv:\\\n",
    "a. calculate the first four moments values by using normalized formula in the \"Week1 - UnivariateStats\".\\\n",
    "b. calculate the first four moments values again by using your chosen statistical package.\\\n",
    "c. Is your statistical package functions biased? Prove or disprove your hypothesis respectively. \\\n",
    "Explain your conclusion."
   ]
  },
  {
   "cell_type": "markdown",
   "id": "320f0f79-a167-4c08-803d-8dd1c24ba7ea",
   "metadata": {
    "tags": []
   },
   "source": [
    "#### My approach for this question:\n",
    "For the problem, I generate a standard normal distribution so the skewness and kurtosis are expected to be 0. In the code below, I first parse the dataset from csv file and use the data to generate results using normalized formula from the lecture, and use the standard package scipy to calculate the same. The results are exactly the same or very close. Then I use t-test to test at significance level of 95% to see if my package is biased or not. "
   ]
  },
  {
   "cell_type": "code",
   "execution_count": null,
   "id": "87098a37-2506-45db-a253-6be066a114bf",
   "metadata": {},
   "outputs": [
    {
     "name": "stdout",
     "output_type": "stream",
     "text": [
      "Normalized Formula (Statistical Package)\n",
      "Mean 1.049 (1.049)\n",
      "Variance 5.4272 (5.4218)\n",
      "Skew 0.8806 (0.8806)\n",
      "Kurtosis 23.1222 (23.1222)\n",
      "Mean diff = 0.0\n",
      "Variance diff = 0.0054\n",
      "Skewness diff = 0.0\n",
      "Kurtosis diff = 0.0\n",
      "\n",
      "T-test results for each moment:\n",
      "Mean: T-statistic = -0.0482, p-value = 0.9615\n",
      "Variance: T-statistic = -22.368, p-value = 0.0\n",
      "Skewness: T-statistic = 1.9568, p-value = 0.0505\n",
      "Kurtosis: T-statistic = -30.1013, p-value = 0.0\n",
      "\n",
      "Conclusion:\n",
      "We fail to reject null hypothesis and conclude that the difference is not significant. The package is unbiased for mean calculation.\n",
      "We reject null hypothesis and conclude that the difference is significant. The package is biased for variance calculation.\n",
      "We fail to reject null hypothesis and conclude that the difference is not significant. The package is unbiased for skewness calculation.\n",
      "We reject null hypothesis and conclude that the difference is significant. The package is biased for kurtosis calculation.\n"
     ]
    }
   ],
   "source": [
    "import pandas as pd\n",
    "import numpy as np\n",
    "\n",
    "# import package for part b and part c (test biasness)\n",
    "from scipy.stats import skew, kurtosis, ttest_ind \n",
    "\n",
    "# Calculation of moments\n",
    "\n",
    "def first4Moments(sample):\n",
    "    n = len(sample)\n",
    "\n",
    "    # mean\n",
    "    μ_hat = sum(sample)/n\n",
    "\n",
    "    # remove the mean from the sample\n",
    "    sim_corrected = sample - μ_hat\n",
    "    cm2 = np.dot(sim_corrected, sim_corrected) / n\n",
    "\n",
    "    # variance (normalized)\n",
    "    σ2_hat = np.dot(sim_corrected, sim_corrected) / (n-1)\n",
    "\n",
    "    # skewness (normalized)\n",
    "    skew_hat = np.sum(sim_corrected**3) / n / np.sqrt(cm2**3)\n",
    "\n",
    "    # kurtosis (normalized)\n",
    "    kurt_hat = np.sum(sim_corrected**4) / n / cm2**2\n",
    "\n",
    "    excessKurt_hat = kurt_hat - 3\n",
    "\n",
    "    return round(μ_hat, 4), round(σ2_hat, 4), round(skew_hat, 4), round(excessKurt_hat, 4)\n",
    "\n",
    "\n",
    "# parse the dataset from the csv file\n",
    "dataset = pd.read_csv('problem1.csv')\n",
    "sample = dataset['x']\n",
    "\n",
    "# generated results using normalized formula\n",
    "m, s2, sk, k = first4Moments(sample)\n",
    "\n",
    "# generated results using packages numpy and scipy\n",
    "pm, ps2, psk, pk = pm, ps2, psk, pk = round(np.mean(sample), 4), round(np.var(sample), 4), round(skew(sample), 4), round(kurtosis(sample), 4)\n",
    "\n",
    "# with open('output.txt', 'w') as f:\n",
    "      \n",
    "\n",
    "# use t-test for each moment \n",
    "t_statistic_mean, p_value_mean = ttest_ind(sample, np.random.normal(m, pm, len(sample)))\n",
    "t_statistic_variance, p_value_variance = ttest_ind(sample, np.random.normal(s2, ps2, len(sample)))\n",
    "t_statistic_skewness, p_value_skewness = ttest_ind(sample, np.random.normal(sk, psk, len(sample)))\n",
    "t_statistic_kurtosis, p_value_kurtosis = ttest_ind(sample, np.random.normal(k, pk, len(sample)))\n",
    "\n",
    "\n",
    "# round t-test results to 4 decimal places\n",
    "t_statistic_mean = round(t_statistic_mean, 4)\n",
    "p_value_mean = round(p_value_mean, 4)\n",
    "t_statistic_variance = round(t_statistic_variance, 4)\n",
    "p_value_variance = round(p_value_variance, 4)\n",
    "t_statistic_skewness = round(t_statistic_skewness, 4)\n",
    "p_value_skewness = round(p_value_skewness, 4)\n",
    "t_statistic_kurtosis = round(t_statistic_kurtosis, 4)\n",
    "p_value_kurtosis = round(p_value_kurtosis, 4)\n",
    "\n",
    "# set alpha for conclusion later\n",
    "alpha = 0.05\n",
    "\n",
    "\n",
    "# Output test result \n",
    "print(\"Normalized Formula (Statistical Package)\")\n",
    "print(f\"Mean {m} ({pm})\")\n",
    "print(f\"Variance {s2} ({ps2})\")\n",
    "print(f\"Skew {sk} ({psk})\")\n",
    "print(f\"Kurtosis {k} ({pk})\")\n",
    "\n",
    "print(f\"Mean diff = {round(m - pm,4)}\")\n",
    "print(f\"Variance diff = {round(s2 - ps2,4)}\")\n",
    "print(f\"Skewness diff = {round(sk - psk,4)}\")\n",
    "print(f\"Kurtosis diff = {round(k - pk,4)}\")\n",
    "\n",
    "print(\"\\nT-test results for each moment:\")\n",
    "print(f\"Mean: T-statistic = {t_statistic_mean}, p-value = {p_value_mean}\")\n",
    "print(f\"Variance: T-statistic = {t_statistic_variance}, p-value = {p_value_variance}\")\n",
    "print(f\"Skewness: T-statistic = {t_statistic_skewness}, p-value = {p_value_skewness}\")\n",
    "print(f\"Kurtosis: T-statistic = {t_statistic_kurtosis}, p-value = {p_value_kurtosis}\")\n",
    "\n",
    "print(\"\\nConclusion:\")\n",
    "\n",
    "if p_value_mean < alpha:\n",
    "    print(\"We reject null hypothesis and conclude that the difference is significant. The package is biased for mean calculation.\")\n",
    "else:\n",
    "    print(\"We fail to reject null hypothesis and conclude that the difference is not significant. The package is unbiased for mean calculation.\")\n",
    "\n",
    "if p_value_variance < alpha:\n",
    "    print(\"We reject null hypothesis and conclude that the difference is significant. The package is biased for variance calculation.\")\n",
    "else:\n",
    "    print(\"We fail to reject null hypothesis and conclude that the difference is not significant. The package is unbiased for variance calculation.\")\n",
    "\n",
    "if p_value_skewness < alpha:\n",
    "    print(\"We reject null hypothesis and conclude that the difference is significant. The package is biased for skewness calculation.\")\n",
    "else:\n",
    "    print(\"We fail to reject null hypothesis and conclude that the difference is not significant. The package is unbiased for skewness calculation.\")\n",
    "\n",
    "if p_value_kurtosis < alpha:\n",
    "    print(\"We reject null hypothesis and conclude that the difference is significant. The package is biased for kurtosis calculation.\")\n",
    "else:\n",
    "    print(\"We fail to reject null hypothesis and conclude that the difference is not significant. The package is unbiased for kurtosis calculation.\")"
   ]
  },
  {
   "cell_type": "markdown",
   "id": "f29e44b5-cfd1-45ca-8da3-2b15269530fc",
   "metadata": {
    "jp-MarkdownHeadingCollapsed": true,
    "tags": []
   },
   "source": [
    "### Problem 1 Conclusion\n",
    "\n",
    "Upon testing, I have the following results:\n",
    "We fail to reject null hypothesis and conclude that the difference is not significant. The package is unbiased for mean calculation.\n",
    "We reject null hypothesis and conclude that the difference is significant. The package is biased for variance calculation.\n",
    "We reject null hypothesis and conclude that the difference is significant. The package is biased for skewness calculation.\n",
    "We reject null hypothesis and conclude that the difference is significant. The package is biased for kurtosis calculation.\n",
    "\n",
    "The results of the four t-tests show that only the mean calculation is unbiased and I conclude that the statistical package is biased for variance, skewness, and kurtosis calculation."
   ]
  },
  {
   "cell_type": "markdown",
   "id": "4bb84707-4288-4ba0-8b30-522eadf76da4",
   "metadata": {
    "tags": []
   },
   "source": [
    "# Problem 2\n",
    "First, install necessary packages if needed using the code below"
   ]
  },
  {
   "cell_type": "code",
   "execution_count": 2,
   "id": "7a53af12-ceb6-41a7-b563-f93a08e7c5d8",
   "metadata": {},
   "outputs": [
    {
     "name": "stdout",
     "output_type": "stream",
     "text": [
      "Requirement already satisfied: statsmodels in /Users/angelaliang/opt/anaconda3/lib/python3.9/site-packages (0.12.2)\n",
      "Requirement already satisfied: scipy>=1.1 in /Users/angelaliang/opt/anaconda3/lib/python3.9/site-packages (from statsmodels) (1.7.1)\n",
      "Requirement already satisfied: patsy>=0.5 in /Users/angelaliang/opt/anaconda3/lib/python3.9/site-packages (from statsmodels) (0.5.2)\n",
      "Requirement already satisfied: numpy>=1.15 in /Users/angelaliang/opt/anaconda3/lib/python3.9/site-packages (from statsmodels) (1.20.3)\n",
      "Requirement already satisfied: pandas>=0.21 in /Users/angelaliang/opt/anaconda3/lib/python3.9/site-packages (from statsmodels) (1.3.4)\n",
      "Requirement already satisfied: python-dateutil>=2.7.3 in /Users/angelaliang/opt/anaconda3/lib/python3.9/site-packages (from pandas>=0.21->statsmodels) (2.8.2)\n",
      "Requirement already satisfied: pytz>=2017.3 in /Users/angelaliang/opt/anaconda3/lib/python3.9/site-packages (from pandas>=0.21->statsmodels) (2023.3.post1)\n",
      "Requirement already satisfied: six in /Users/angelaliang/opt/anaconda3/lib/python3.9/site-packages (from patsy>=0.5->statsmodels) (1.16.0)\n",
      "Note: you may need to restart the kernel to use updated packages.\n"
     ]
    }
   ],
   "source": [
    "pip install statsmodels"
   ]
  },
  {
   "cell_type": "markdown",
   "id": "1192faa1-5d25-46d1-bcd5-3cd9eb60b8b6",
   "metadata": {
    "tags": []
   },
   "source": [
    "### a. MLE method and compare with OLS\n",
    "\n",
    "#### My approach:\n",
    "For this problem, I aimed to estimate the parameters of a linear regression model using both Ordinary Least Squares (OLS) and Maximum Likelihood Estimation (MLE) methods. I began by reading the dataset from a CSV file and defined the predictor variable (x) and the response variable (y). Using the statsmodels library, I performed the OLS regression by fitting a linear model to the data. This provided estimates for the regression coefficients (betas) and their standard errors. Next, I implemented a custom negative log-likelihood function for the linear regression model and utilized the minimize function from scipy.optimize to maximize the likelihood function. This allowed me to estimate the regression coefficients and the error variance using the MLE method. After obtaining the estimates from both OLS and MLE methods, I compared the estimated regression coefficients and error variance. Despite minor differences, I found that the estimates obtained from both methods were largely consistent. Based on the results, I concluded that the estimated coefficients and error variance obtained from OLS and MLE were similar, indicating the robustness of the estimation methods. Any slight discrepancies observed could be attributed to computational nuances or differences in the optimization process.\n",
    "\n",
    "#### Data results:\n",
    "\n",
    "Estimated Betas in MLE: [-0.08737946  0.77523121]\\\n",
    "Estimated Sigma in MLE: 1.0037674485926553\\\n",
    "Estimated Betas in OLS: [-0.08738446  0.7752741 ]\\\n",
    "Estimated Sigma in OLS: [1.003756319417732]\n"
   ]
  },
  {
   "cell_type": "markdown",
   "id": "23938187-f96a-4ba2-810b-e64262a5b2f7",
   "metadata": {
    "tags": []
   },
   "source": [
    "### OLS method"
   ]
  },
  {
   "cell_type": "code",
   "execution_count": 3,
   "id": "0438b380-5030-495b-8202-7d88440dba3f",
   "metadata": {},
   "outputs": [
    {
     "name": "stdout",
     "output_type": "stream",
     "text": [
      "                            OLS Regression Results                            \n",
      "==============================================================================\n",
      "Dep. Variable:                      y   R-squared:                       0.346\n",
      "Model:                            OLS   Adj. R-squared:                  0.342\n",
      "Method:                 Least Squares   F-statistic:                     104.6\n",
      "Date:                Fri, 26 Jan 2024   Prob (F-statistic):           5.59e-20\n",
      "Time:                        23:08:38   Log-Likelihood:                -284.54\n",
      "No. Observations:                 200   AIC:                             573.1\n",
      "Df Residuals:                     198   BIC:                             579.7\n",
      "Df Model:                           1                                         \n",
      "Covariance Type:            nonrobust                                         \n",
      "==============================================================================\n",
      "                 coef    std err          t      P>|t|      [0.025      0.975]\n",
      "------------------------------------------------------------------------------\n",
      "const         -0.0874      0.071     -1.222      0.223      -0.228       0.054\n",
      "x1             0.7753      0.076     10.226      0.000       0.626       0.925\n",
      "==============================================================================\n",
      "Omnibus:                       11.922   Durbin-Watson:                   2.023\n",
      "Prob(Omnibus):                  0.003   Jarque-Bera (JB):               16.685\n",
      "Skew:                           0.387   Prob(JB):                     0.000238\n",
      "Kurtosis:                       4.184   Cond. No.                         1.09\n",
      "==============================================================================\n",
      "\n",
      "Notes:\n",
      "[1] Standard Errors assume that the covariance matrix of the errors is correctly specified.\n",
      "Estimated coefficients (betas):\n",
      "[-0.08738446  0.7752741 ]\n",
      "Standard deviations of the OLS errors:\n",
      "[0.07149629 0.07581425]\n"
     ]
    }
   ],
   "source": [
    "import numpy as np\n",
    "import pandas as pd\n",
    "import statsmodels.api as sm\n",
    "from scipy.stats import norm\n",
    "\n",
    "# read data from csv \n",
    "data = pd.read_csv('problem2.csv')\n",
    "\n",
    "# define variables (converting to list)\n",
    "x = data['x'].values\n",
    "y = data['y'].values\n",
    "\n",
    "# add the constant term\n",
    "x = sm.add_constant(x)\n",
    "\n",
    "# perform the regression and fit the model\n",
    "result = sm.OLS(y,x).fit()\n",
    "\n",
    "# print the summary table\n",
    "print(result.summary())\n",
    "\n",
    "# Get the estimated coefficients (betas)\n",
    "beta = result.params\n",
    "print(\"Estimated coefficients (betas):\")\n",
    "print(beta)\n",
    "\n",
    "# Get the standard deviations of the OLS errors\n",
    "std_errors = result.bse\n",
    "print(\"Standard deviations of the OLS errors:\")\n",
    "print(std_errors)\n"
   ]
  },
  {
   "cell_type": "code",
   "execution_count": 48,
   "id": "9850d776-51ca-4045-b208-3d0ab6c09247",
   "metadata": {},
   "outputs": [
    {
     "name": "stdout",
     "output_type": "stream",
     "text": [
      "Estimated Betas in MLE: [-0.08737946  0.77523121]\n",
      "Estimated Sigma in MLE: 1.0037674485926553\n",
      "Estimated Betas in OLS: [-0.08738446  0.7752741 ]\n",
      "Estimated Sigma in OLS: 1.003756319417732\n"
     ]
    }
   ],
   "source": [
    "# MLE method\n",
    "import numpy as np\n",
    "import pandas as pd\n",
    "import statsmodels.api as sm\n",
    "from scipy.stats import norm\n",
    "from scipy.optimize import minimize\n",
    "\n",
    "def myll(params, x, y):\n",
    "    beta = params[:-1]\n",
    "    s = params[-1]\n",
    "    n = len(y)\n",
    "    e = y - np.dot(x, beta)\n",
    "    s2 = s**2\n",
    "    ll = -n/2 * np.log(s2 * 2 * np.pi) - np.dot(e, e) / (2 * s2)\n",
    "    return -ll\n",
    "\n",
    "# Initial guess for parameters\n",
    "initial_params = np.ones(x.shape[1] + 1)\n",
    "\n",
    "# MLE Optimization problem\n",
    "result = minimize(myll, initial_params, args=(x, y), method='Nelder-Mead')\n",
    "\n",
    "# Extracting results\n",
    "estimated_params = result.x[:-1]\n",
    "estimated_sigma = result.x[-1]\n",
    "\n",
    "print(\"Estimated Betas in MLE:\", estimated_params)\n",
    "print(\"Estimated Sigma in MLE:\", estimated_sigma)\n",
    "\n",
    "# OLS estimation\n",
    "model_ols = sm.OLS(y, x)\n",
    "result_ols = model_ols.fit()\n",
    "estimated_params_ols = result_ols.params\n",
    "estimated_sigma_ols = np.std(result_ols.resid)\n",
    "print(\"Estimated Betas in OLS:\", estimated_params_ols)\n",
    "print(\"Estimated Sigma in OLS:\", estimated_sigma_ols)"
   ]
  },
  {
   "cell_type": "markdown",
   "id": "9cdb5cbb-1871-4b27-982c-b006f4670bc7",
   "metadata": {
    "tags": []
   },
   "source": [
    "### b. MLE for t-distribution of error\n",
    "First, I use MLE method under normality assumption, and then use it for t-distribution error. Then, I compare goodness-of-fit using AIC and BIC, and whichever has the lower AIC/BIC is a better fit."
   ]
  },
  {
   "cell_type": "code",
   "execution_count": 21,
   "id": "57d1f3b3-9cef-48e9-a265-ad4e639d5a3f",
   "metadata": {},
   "outputs": [
    {
     "name": "stdout",
     "output_type": "stream",
     "text": [
      "MLE with t-distribution Estimated Betas: [-0.09726888  0.67501031]\n",
      "MLE with t-distribution Estimated Sigma: 0.8551053413594688\n"
     ]
    }
   ],
   "source": [
    "# modify MLE for t-distribution of error \n",
    "from scipy.stats import t\n",
    "\n",
    "def myll_t(params, x, y):\n",
    "    beta = params[:-2]\n",
    "    nu = params[-2]\n",
    "    s = params[-1]\n",
    "    n = len(y)\n",
    "    e = y - np.dot(x, beta)\n",
    "    s2 = s**2\n",
    "    ll = np.sum(t.logpdf(e / s, df=nu) - np.log(s)) # t-distribution \n",
    "    return -ll\n",
    "\n",
    "# Initial guess for parameters\n",
    "initial_params_t = np.ones(x.shape[1] + 2)\n",
    "\n",
    "# MLE Optimization problem with t-distribution assumption\n",
    "result_mle_t = minimize(myll_t, initial_params_t, args=(x, y), method='Nelder-Mead')\n",
    "\n",
    "# Extracting MLE results\n",
    "estimated_params_mle_t = result_mle_t.x[:-2]\n",
    "estimated_nu_mle_t = result_mle_t.x[-2]\n",
    "estimated_sigma_mle_t = result_mle_t.x[-1]\n",
    "\n",
    "print(\"MLE with t-distribution Estimated Betas:\", estimated_params_mle_t)\n",
    "print(\"MLE with t-distribution Estimated Sigma:\", estimated_sigma_mle_t)"
   ]
  },
  {
   "cell_type": "markdown",
   "id": "9afeaf06-2e78-4347-9d65-3ce517dfa256",
   "metadata": {
    "tags": []
   },
   "source": [
    "### Calculate AIC BIC for normal and t-distribution error"
   ]
  },
  {
   "cell_type": "code",
   "execution_count": 6,
   "id": "1d04e8d6-54ec-4660-a83b-bcb31f2b5cd0",
   "metadata": {},
   "outputs": [
    {
     "name": "stdout",
     "output_type": "stream",
     "text": [
      "k_normal: 3\n",
      "k_t: 4\n",
      "AIC (Normal): -563.0751264822612\n",
      "BIC (Normal): 1146.068007566218\n",
      "AIC (t-distribution): -554.58680635997\n",
      "BIC (t-distribution): 1149.072922272167\n",
      "Normal distribution error model has a lower AIC.\n",
      "Normal distribution error model has a lower BIC.\n",
      "Thus, normal distribution is a better fit.\n"
     ]
    }
   ],
   "source": [
    "# Calculate AIC and BIC for normal distribution error model\n",
    "n = len(y)\n",
    "k_normal = x.shape[1] + 1\n",
    "print(\"k_normal:\", k_normal)\n",
    "AIC_normal = 2 * k_normal - 2 * result.fun\n",
    "BIC_normal = n * np.log(result.fun) + k_normal * np.log(n)\n",
    "\n",
    "# Calculate AIC and BIC for t-distribution error model\n",
    "k_t = x.shape[1] + 2\n",
    "print(\"k_t:\", k_t)\n",
    "AIC_t = 2 * k_t - 2 * result_mle_t.fun\n",
    "BIC_t = n * np.log(result_mle_t.fun) + k_t * np.log(n)\n",
    "\n",
    "print(\"AIC (Normal):\", AIC_normal)\n",
    "print(\"BIC (Normal):\", BIC_normal)\n",
    "print(\"AIC (t-distribution):\", AIC_t)\n",
    "print(\"BIC (t-distribution):\", BIC_t)\n",
    "\n",
    "# Compare AIC and BIC\n",
    "if AIC_normal < AIC_t:\n",
    "    print(\"Normal distribution error model has a lower AIC.\")\n",
    "else:\n",
    "    print(\"t-distribution error model has a lower AIC.\")\n",
    "    \n",
    "if BIC_normal < BIC_t:\n",
    "    print(\"Normal distribution error model has a lower BIC.\")\n",
    "else:\n",
    "    print(\"t-distribution error model has a lower BIC.\")\n",
    "\n",
    "if AIC_normal < AIC_t and BIC_normal < BIC_t:\n",
    "    print(\"Thus, normal distribution is a better fit.\")\n",
    "else:\n",
    "    print(\"Thus, t-distribution is a better fit.\")"
   ]
  },
  {
   "cell_type": "markdown",
   "id": "4a6df766-1498-4e56-9f44-b2b69f7e6c61",
   "metadata": {},
   "source": [
    "#### Conclusion\n",
    "Based on the comparison of AIC and BIC, the model that has a lower AIC or BIC is a better fit. Thus, I conclude that normal distribution is a better fit. "
   ]
  },
  {
   "cell_type": "markdown",
   "id": "f6ee9515-f439-43db-9b8d-dbd0c5000122",
   "metadata": {},
   "source": [
    "###  c. Distribution of X2 and plots\n",
    "I begin by parsing the dataset from two separate CSV files, problem2_x.csv and problem2_x1.csv, which contain the values of X1 and X2, respectively. Then I define a negative log-likelihood function for the multivariate normal distribution. This function takes parameters such as means (mu1, mu2), standard deviations (sigma1, sigma2), and correlation coefficient (rho) as inputs. \n",
    "MLE Optimization: Using the minimize function from SciPy, I optimize the negative log-likelihood function to estimate the parameters (mu1, mu2, sigma1, sigma2, rho) that maximize the likelihood of observing the data. After optimization, I extract the Maximum Likelihood Estimation (MLE) parameters to obtain the estimated means, standard deviations, and correlation coefficient. I plot the observed data points of X1 and X2 along with the expected value of X2 given each observed value of X1. This allows me to visualize the relationship between the two variables. Additionally, I compute the 95% confidence interval for X2 based on the estimated parameters. This provides insights into the uncertainty associated with the expected value of X2.\n",
    "See the visualization of the expected value of X2 along with its 95% confidence interval on a scatter plot below. "
   ]
  },
  {
   "cell_type": "markdown",
   "id": "fe6278af-84e8-4a07-bb63-b7eb6371be6f",
   "metadata": {
    "tags": []
   },
   "source": [
    "##### X follows multivariate normal distribution so that:\n",
    "X ~ N(mu, cov)\\\n",
    "where mu is the (Nx1) vector of expected values\\\n",
    "cov is the (NxN) covariance matrix"
   ]
  },
  {
   "cell_type": "code",
   "execution_count": 7,
   "id": "017e6032-4615-4646-a5a9-d2e163343672",
   "metadata": {},
   "outputs": [
    {
     "data": {
      "image/png": "[encoded data removed]",
      "text/plain": [
       "<Figure size 432x288 with 1 Axes>"
      ]
     },
     "metadata": {
      "needs_background": "light"
     },
     "output_type": "display_data"
    }
   ],
   "source": [
    "import numpy as np\n",
    "import pandas as pd\n",
    "import matplotlib.pyplot as plt\n",
    "from scipy.optimize import minimize\n",
    "from scipy.stats import multivariate_normal\n",
    "\n",
    "# Read data from csv file\n",
    "data_x = pd.read_csv('problem2_x.csv')\n",
    "data_x1 = pd.read_csv('problem2_x1.csv')\n",
    "\n",
    "# Extract X1 and X2 data\n",
    "X1 = data_x['x1'].values\n",
    "X2 = data_x['x2'].values\n",
    "\n",
    "# Define negative log-likelihood function for multivariate normal distribution\n",
    "def neg_log_likelihood(params, X1, X2):\n",
    "    mu1, mu2, sigma1, sigma2, rho = params\n",
    "    cov_matrix = [[sigma1**2, rho * sigma1 * sigma2],\n",
    "                  [rho * sigma1 * sigma2, sigma2**2]]\n",
    "    mvn = multivariate_normal([mu1, mu2], cov_matrix)\n",
    "    \n",
    "    # Stack X1 and X2 to create a matrix of shape (n_samples, n_features)\n",
    "    X = np.column_stack((X1, X2))\n",
    "    \n",
    "    # Compute negative log-likelihood\n",
    "    return -np.sum(mvn.logpdf(X))\n",
    "\n",
    "\n",
    "# Initial guess for parameters\n",
    "initial_params = [0, 0, 1, 1, 0]\n",
    "\n",
    "# MLE Optimization problem\n",
    "result = minimize(neg_log_likelihood, initial_params, args=(X1, X2), method='Nelder-Mead')\n",
    "\n",
    "# Extract MLE parameters\n",
    "mu1, mu2, sigma1, sigma2, rho = result.x\n",
    "\n",
    "# Plotting\n",
    "fig, ax = plt.subplots()\n",
    "ax.plot(X1, X2, 'bo', markersize=3, label='Observed Data')\n",
    "\n",
    "# Compute expected value of X2 given each observed value of X1\n",
    "x1_values = data_x1['x1'].values\n",
    "x2_expected = []\n",
    "for x1_value in x1_values:\n",
    "    mu_conditional = mu2 + rho * sigma2 / sigma1 * (x1_value - mu1)\n",
    "    x2_expected.append(mu_conditional)\n",
    "\n",
    "# Plot expected value of X2 with 95% confidence interval\n",
    "x2_expected = np.array(x2_expected)\n",
    "ax.plot(x1_values, x2_expected, 'r-', label='Expected Value of X2')\n",
    "\n",
    "# Compute 95% confidence interval for X2\n",
    "confidence_interval = 1.96 * np.sqrt(sigma2**2 - (rho * sigma2 / sigma1)**2)\n",
    "upper_bound = x2_expected + confidence_interval\n",
    "lower_bound = x2_expected - confidence_interval\n",
    "\n",
    "# Plot 95% confidence interval\n",
    "ax.fill_between(x1_values, upper_bound, lower_bound, color='black', alpha=0.4, label='95% Confidence Interval')\n",
    "\n",
    "# Add labels and legend\n",
    "ax.set_xlabel('X1')\n",
    "ax.set_ylabel('X2')\n",
    "ax.set_title('Expected Value of X2 with 95% Confidence Interval')\n",
    "ax.legend()\n",
    "\n",
    "plt.show()\n"
   ]
  },
  {
   "cell_type": "markdown",
   "id": "61de6eb3-023f-4ec9-bbab-de45d6310aa9",
   "metadata": {
    "tags": []
   },
   "source": [
    "# Problem 3\n",
    "Fit the data in problem3.csv using AR(1) through AR(3) and MA(1) through MA(3), respectively. Which is the best of fit? "
   ]
  },
  {
   "cell_type": "markdown",
   "id": "f06748ab-3e28-4f73-b8a6-9791da184e78",
   "metadata": {},
   "source": [
    "#### My approach:\n",
    "* Parse data from CSV\n",
    "* loop over each combination of p and q\n",
    "* use python package tsa.arima.model to auto fit with predefined p and q\n",
    "* print the top three models with lower AIC and BIC and compare and decide on the best model"
   ]
  },
  {
   "cell_type": "markdown",
   "id": "1ddf990f-dc3d-47f5-820e-eb2ba4a162a5",
   "metadata": {},
   "source": [
    "#### NOTE: Since I'm not sure if this question means a combination of ARMA or just AR and MA separately, I'm doing a AR and MA separate calculation (just AR or just MA), and then also doing a calculation that contains all possible cases (nested loop with all combinations of p and q).  "
   ]
  },
  {
   "cell_type": "code",
   "execution_count": 29,
   "id": "78011224-491f-4313-9d51-cd995e744108",
   "metadata": {},
   "outputs": [
    {
     "name": "stdout",
     "output_type": "stream",
     "text": [
      "Results Table:\n",
      "   p  q          AIC          BIC\n",
      "0  1  0  1269.580752  1281.555146\n",
      "1  2  0  1233.539326  1249.505184\n",
      "2  3  0  1141.345974  1161.303296\n",
      "3  0  1  1211.564179  1223.538573\n",
      "4  0  2  1197.168232  1213.134090\n",
      "5  0  3  1198.683206  1218.640528\n",
      "Top three models with the lowest AIC:\n",
      "   p  q          AIC          BIC\n",
      "2  3  0  1141.345974  1161.303296\n",
      "4  0  2  1197.168232  1213.134090\n",
      "5  0  3  1198.683206  1218.640528\n",
      "\n",
      "Top three models with the lowest BIC:\n",
      "   p  q          AIC          BIC\n",
      "2  3  0  1141.345974  1161.303296\n",
      "4  0  2  1197.168232  1213.134090\n",
      "5  0  3  1198.683206  1218.640528\n"
     ]
    }
   ],
   "source": [
    "import pandas as pd\n",
    "from statsmodels.tsa.arima.model import ARIMA\n",
    "\n",
    "# Step 1: Load the data\n",
    "data = pd.read_csv(\"problem3.csv\")\n",
    "\n",
    "# Step 2: Preprocess the data if needed\n",
    "\n",
    "# Step 3: Split the data into training and testing sets\n",
    "train_size = int(len(data) * 0.8)\n",
    "train_data, test_data = data[:train_size], data[train_size:]\n",
    "\n",
    "# Step 4: Fit ARIMA models and store AIC and BIC values in a table\n",
    "results_table = []\n",
    "\n",
    "for p in range(1, 4):\n",
    "    q = 0\n",
    "    try:\n",
    "        model = ARIMA(train_data, order=(p, 0, q))\n",
    "        result = model.fit()\n",
    "        aic = result.aic\n",
    "        bic = result.bic\n",
    "        results_table.append({'p': p, 'q': q, 'AIC': aic, 'BIC': bic})\n",
    "    except:\n",
    "        continue\n",
    "        \n",
    "for q in range(1, 4):\n",
    "    p = 0 \n",
    "    try:\n",
    "        model = ARIMA(train_data, order=(p, 0, q))\n",
    "        result = model.fit()\n",
    "        aic = result.aic\n",
    "        bic = result.bic\n",
    "        results_table.append({'p': p, 'q': q, 'AIC': aic, 'BIC': bic})\n",
    "    except:\n",
    "        continue\n",
    "\n",
    "# Step 5: Display the results table\n",
    "results_df = pd.DataFrame(results_table)\n",
    "print(\"Results Table:\")\n",
    "print(results_df)\n",
    "\n",
    "# Step 6: Print the top three models with the lowest AIC and BIC values\n",
    "top_three_AIC = results_df.sort_values(by='AIC').head(3)\n",
    "top_three_BIC = results_df.sort_values(by='BIC').head(3)\n",
    "\n",
    "print(\"Top three models with the lowest AIC:\")\n",
    "print(top_three_AIC)\n",
    "\n",
    "print(\"\\nTop three models with the lowest BIC:\")\n",
    "print(top_three_BIC)"
   ]
  },
  {
   "cell_type": "markdown",
   "id": "22f36a8d-d4b4-49a5-bf47-e78b89034ab0",
   "metadata": {},
   "source": [
    "### Conclusion (if doing AR and MA separately)\n",
    "By comparing the AIC and BIC results for all the possible combinations, I conclude that AR(3) is the best model because it has the lowest AIC and BIC."
   ]
  },
  {
   "cell_type": "code",
   "execution_count": 30,
   "id": "db04df6f-f06e-42f0-8b9a-aff6b62501f0",
   "metadata": {},
   "outputs": [
    {
     "name": "stderr",
     "output_type": "stream",
     "text": [
      "/Users/angelaliang/opt/anaconda3/lib/python3.9/site-packages/statsmodels/tsa/statespace/sarimax.py:978: UserWarning: Non-invertible starting MA parameters found. Using zeros as starting parameters.\n",
      "  warn('Non-invertible starting MA parameters found.'\n",
      "/Users/angelaliang/opt/anaconda3/lib/python3.9/site-packages/statsmodels/tsa/statespace/sarimax.py:966: UserWarning: Non-stationary starting autoregressive parameters found. Using zeros as starting parameters.\n",
      "  warn('Non-stationary starting autoregressive parameters'\n"
     ]
    },
    {
     "name": "stdout",
     "output_type": "stream",
     "text": [
      "Results Table:\n",
      "    p  q          AIC          BIC\n",
      "0   0  0  1294.515823  1302.498752\n",
      "1   0  1  1211.564179  1223.538573\n",
      "2   0  2  1197.168232  1213.134090\n",
      "3   0  3  1198.683206  1218.640528\n",
      "4   1  0  1269.580752  1281.555146\n",
      "5   1  1  1202.197907  1218.163765\n",
      "6   1  2  1199.120857  1219.078180\n",
      "7   1  3  1185.123358  1209.072146\n",
      "8   2  0  1233.539326  1249.505184\n",
      "9   2  1  1185.508809  1205.466131\n",
      "10  2  2  1174.021340  1197.970127\n",
      "11  2  3  1156.199414  1184.139666\n",
      "12  3  0  1141.345974  1161.303296\n",
      "13  3  1  1143.158773  1167.107560\n",
      "14  3  2  1144.911214  1172.851466\n",
      "15  3  3  1146.001160  1177.932876\n",
      "Top three models with the lowest AIC:\n",
      "    p  q          AIC          BIC\n",
      "12  3  0  1141.345974  1161.303296\n",
      "13  3  1  1143.158773  1167.107560\n",
      "14  3  2  1144.911214  1172.851466\n",
      "\n",
      "Top three models with the lowest BIC:\n",
      "    p  q          AIC          BIC\n",
      "12  3  0  1141.345974  1161.303296\n",
      "13  3  1  1143.158773  1167.107560\n",
      "14  3  2  1144.911214  1172.851466\n"
     ]
    }
   ],
   "source": [
    "import pandas as pd\n",
    "from statsmodels.tsa.arima.model import ARIMA\n",
    "\n",
    "# Step 1: Load the data\n",
    "data = pd.read_csv(\"problem3.csv\")\n",
    "\n",
    "# Step 2: Preprocess the data if needed\n",
    "\n",
    "# Step 3: Split the data into training and testing sets\n",
    "train_size = int(len(data) * 0.8)\n",
    "train_data, test_data = data[:train_size], data[train_size:]\n",
    "\n",
    "# Step 4: Fit ARIMA models and store AIC and BIC values in a table\n",
    "results_table = []\n",
    "\n",
    "for p in range(0, 4):\n",
    "    for q in range(0, 4):\n",
    "        try:\n",
    "            model = ARIMA(train_data, order=(p, 0, q))\n",
    "            result = model.fit()\n",
    "            aic = result.aic\n",
    "            bic = result.bic\n",
    "            results_table.append({'p': p, 'q': q, 'AIC': aic, 'BIC': bic})\n",
    "        except:\n",
    "            continue\n",
    "\n",
    "# Step 5: Display the results table\n",
    "results_df = pd.DataFrame(results_table)\n",
    "print(\"Results Table:\")\n",
    "print(results_df)\n",
    "\n",
    "# Step 6: Print the top three models with the lowest AIC and BIC values\n",
    "top_three_AIC = results_df.sort_values(by='AIC').head(3)\n",
    "top_three_BIC = results_df.sort_values(by='BIC').head(3)\n",
    "\n",
    "print(\"Top three models with the lowest AIC:\")\n",
    "print(top_three_AIC)\n",
    "\n",
    "print(\"\\nTop three models with the lowest BIC:\")\n",
    "print(top_three_BIC)"
   ]
  },
  {
   "cell_type": "markdown",
   "id": "ca0b826c-54bf-4387-9d2c-03f1441a2626",
   "metadata": {},
   "source": [
    "### Conclusion (if doing ARMA)\n",
    "Therefore, even if the question is asking for a combination of ARMA model, that is, ARIMA, the best model would still be ARIMA(3,0,0) as it has the lowest AIC and BIC"
   ]
  }
 ],
 "metadata": {
  "kernelspec": {
   "display_name": "Python 3 (ipykernel)",
   "language": "python",
   "name": "python3"
  },
  "language_info": {
   "codemirror_mode": {
    "name": "ipython",
    "version": 3
   },
   "file_extension": ".py",
   "mimetype": "text/x-python",
   "name": "python",
   "nbconvert_exporter": "python",
   "pygments_lexer": "ipython3",
   "version": "3.9.7"
  }
 },
 "nbformat": 4,
 "nbformat_minor": 5
}

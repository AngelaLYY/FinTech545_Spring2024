{
 "cells": [
  {
   "cell_type": "markdown",
   "id": "f47aa6f2-3f74-41e4-bbc5-ac572ee92a87",
   "metadata": {},
   "source": [
    "# Week02 Assignment by Angela Liang"
   ]
  },
  {
   "cell_type": "markdown",
   "id": "e763f207-4469-4b41-b451-79a8c5405c41",
   "metadata": {},
   "source": [
    "## Problem 1"
   ]
  },
  {
   "cell_type": "markdown",
   "id": "320f0f79-a167-4c08-803d-8dd1c24ba7ea",
   "metadata": {},
   "source": [
    "For the problem, I generate a standard normal distribution so the skewness"
   ]
  },
  {
   "cell_type": "code",
   "execution_count": 23,
   "id": "87098a37-2506-45db-a253-6be066a114bf",
   "metadata": {},
   "outputs": [
    {
     "name": "stdout",
     "output_type": "stream",
     "text": [
      "Normalized Formula (Statistical Package)\n",
      "Mean 1.049 (1.049)\n",
      "Variance 5.4272 (5.4218)\n",
      "Skew 0.8806 (0.8806)\n",
      "Kurtosis 23.1222 (23.1222)\n",
      "Mean diff = 0.0\n",
      "Variance diff = 0.005399999999999849\n",
      "Skewness diff = 0.0\n",
      "Kurtosis diff = 0.0\n",
      "\n",
      "T-test results for each moment:\n",
      "Mean: T-statistic = -0.8299, p-value = 0.4067\n",
      "Variance: T-statistic = -22.1357, p-value = 0.0\n",
      "Skewness: T-statistic = 2.1778, p-value = 0.0295\n",
      "Kurtosis: T-statistic = -30.9342, p-value = 0.0\n",
      "\n",
      "Conclusion:\n",
      "We fail to reject null hypothesis and conclude that the difference is not significant. The package is unbiased for mean calculation.\n",
      "We reject null hypothesis and conclude that the difference is significant. The package is biased for variance calculation.\n",
      "We reject null hypothesis and conclude that the difference is significant. The package is biased for skewness calculation.\n",
      "We reject null hypothesis and conclude that the difference is significant. The package is biased for kurtosis calculation.\n"
     ]
    }
   ],
   "source": [
    "'''Given the dataset in problem1.csv:\n",
    "a. calculate the first four moments values by using normalized formula in the \"Week1 - UnivariateStats\".\n",
    "b. calculate the first four moments values again by using your chosen statistical package.\n",
    "c. Is your statistical package functions biased? Prove or disprove your hypothesis respectively. \n",
    "Explain your conclusion.\n",
    "'''\n",
    "\n",
    "import pandas as pd\n",
    "import numpy as np\n",
    "\n",
    "# import package for part b and part c (test biasness)\n",
    "from scipy.stats import skew, kurtosis, ttest_ind \n",
    "\n",
    "\n",
    "\n",
    "# Calculation of moments\n",
    "\n",
    "def first4Moments(sample):\n",
    "    n = len(sample)\n",
    "\n",
    "    # mean\n",
    "    μ_hat = sum(sample)/n\n",
    "\n",
    "    # remove the mean from the sample\n",
    "    sim_corrected = sample - μ_hat\n",
    "    cm2 = np.dot(sim_corrected, sim_corrected) / n\n",
    "\n",
    "    # variance (normalized)\n",
    "    σ2_hat = np.dot(sim_corrected, sim_corrected) / (n-1)\n",
    "\n",
    "    # skewness (normalized)\n",
    "    skew_hat = np.sum(sim_corrected**3) / n / np.sqrt(cm2**3)\n",
    "\n",
    "    # kurtosis (normalized)\n",
    "    kurt_hat = np.sum(sim_corrected**4) / n / cm2**2\n",
    "\n",
    "    excessKurt_hat = kurt_hat - 3\n",
    "\n",
    "    return round(μ_hat, 4), round(σ2_hat, 4), round(skew_hat, 4), round(excessKurt_hat, 4)\n",
    "\n",
    "\n",
    "# parse the dataset from the csv file\n",
    "dataset = pd.read_csv('problem1.csv')\n",
    "sample = dataset['x']\n",
    "\n",
    "# generated results using normalized formula\n",
    "m, s2, sk, k = first4Moments(sample)\n",
    "\n",
    "# generated results using packages numpy and scipy\n",
    "pm, ps2, psk, pk = pm, ps2, psk, pk = round(np.mean(sample), 4), round(np.var(sample), 4), round(skew(sample), 4), round(kurtosis(sample), 4)\n",
    "\n",
    "# with open('output.txt', 'w') as f:\n",
    "      \n",
    "\n",
    "# use t-test for each moment \n",
    "t_statistic_mean, p_value_mean = ttest_ind(sample, np.random.normal(m, pm, len(sample)))\n",
    "t_statistic_variance, p_value_variance = ttest_ind(sample, np.random.normal(s2, ps2, len(sample)))\n",
    "t_statistic_skewness, p_value_skewness = ttest_ind(sample, np.random.normal(sk, psk, len(sample)))\n",
    "t_statistic_kurtosis, p_value_kurtosis = ttest_ind(sample, np.random.normal(k, pk, len(sample)))\n",
    "\n",
    "\n",
    "# round t-test results to 4 decimal places\n",
    "t_statistic_mean = round(t_statistic_mean, 4)\n",
    "p_value_mean = round(p_value_mean, 4)\n",
    "t_statistic_variance = round(t_statistic_variance, 4)\n",
    "p_value_variance = round(p_value_variance, 4)\n",
    "t_statistic_skewness = round(t_statistic_skewness, 4)\n",
    "p_value_skewness = round(p_value_skewness, 4)\n",
    "t_statistic_kurtosis = round(t_statistic_kurtosis, 4)\n",
    "p_value_kurtosis = round(p_value_kurtosis, 4)\n",
    "\n",
    "# set alpha for conclusion later\n",
    "alpha = 0.05\n",
    "\n",
    "\n",
    "# Output test result \n",
    "print(\"Normalized Formula (Statistical Package)\")\n",
    "print(f\"Mean {m} ({pm})\")\n",
    "print(f\"Variance {s2} ({ps2})\")\n",
    "print(f\"Skew {sk} ({psk})\")\n",
    "print(f\"Kurtosis {k} ({pk})\")\n",
    "\n",
    "print(f\"Mean diff = {m - pm}\")\n",
    "print(f\"Variance diff = {s2 - ps2}\")\n",
    "print(f\"Skewness diff = {sk - psk}\")\n",
    "print(f\"Kurtosis diff = {k - pk}\")\n",
    "\n",
    "print(\"\\nT-test results for each moment:\")\n",
    "print(f\"Mean: T-statistic = {t_statistic_mean}, p-value = {p_value_mean}\")\n",
    "print(f\"Variance: T-statistic = {t_statistic_variance}, p-value = {p_value_variance}\")\n",
    "print(f\"Skewness: T-statistic = {t_statistic_skewness}, p-value = {p_value_skewness}\")\n",
    "print(f\"Kurtosis: T-statistic = {t_statistic_kurtosis}, p-value = {p_value_kurtosis}\")\n",
    "\n",
    "print(\"\\nConclusion:\")\n",
    "\n",
    "if p_value_mean < alpha:\n",
    "    print(\"We reject null hypothesis and conclude that the difference is significant. The package is biased for mean calculation.\")\n",
    "else:\n",
    "    print(\"We fail to reject null hypothesis and conclude that the difference is not significant. The package is unbiased for mean calculation.\")\n",
    "\n",
    "if p_value_variance < alpha:\n",
    "    print(\"We reject null hypothesis and conclude that the difference is significant. The package is biased for variance calculation.\")\n",
    "else:\n",
    "    print(\"We fail to reject null hypothesis and conclude that the difference is not significant. The package is unbiased for variance calculation.\")\n",
    "\n",
    "if p_value_skewness < alpha:\n",
    "    print(\"We reject null hypothesis and conclude that the difference is significant. The package is biased for skewness calculation.\")\n",
    "else:\n",
    "    print(\"We fail to reject null hypothesis and conclude that the difference is not significant. The package is unbiased for skewness calculation.\")\n",
    "\n",
    "if p_value_kurtosis < alpha:\n",
    "    print(\"We reject null hypothesis and conclude that the difference is significant. The package is biased for kurtosis calculation.\")\n",
    "else:\n",
    "    print(\"We fail to reject null hypothesis and conclude that the difference is not significant. The package is unbiased for kurtosis calculation.\")"
   ]
  },
  {
   "cell_type": "markdown",
   "id": "f29e44b5-cfd1-45ca-8da3-2b15269530fc",
   "metadata": {},
   "source": [
    "### Problem 1 Conclusion\n",
    "The results of the four t-tests show that only the mean calculation is unbiased and I conclude that the statistical package is biased for variance, skewness, and kurtosis calculation."
   ]
  },
  {
   "cell_type": "markdown",
   "id": "4bb84707-4288-4ba0-8b30-522eadf76da4",
   "metadata": {},
   "source": [
    "# Problem 2\n",
    "First, install necessary packages if needed using the code below"
   ]
  },
  {
   "cell_type": "code",
   "execution_count": 3,
   "id": "7a53af12-ceb6-41a7-b563-f93a08e7c5d8",
   "metadata": {},
   "outputs": [
    {
     "name": "stdout",
     "output_type": "stream",
     "text": [
      "Requirement already satisfied: statsmodels in /Users/angelaliang/opt/anaconda3/lib/python3.9/site-packages (0.12.2)\n",
      "Requirement already satisfied: patsy>=0.5 in /Users/angelaliang/opt/anaconda3/lib/python3.9/site-packages (from statsmodels) (0.5.2)\n",
      "Requirement already satisfied: scipy>=1.1 in /Users/angelaliang/opt/anaconda3/lib/python3.9/site-packages (from statsmodels) (1.7.1)\n",
      "Requirement already satisfied: pandas>=0.21 in /Users/angelaliang/opt/anaconda3/lib/python3.9/site-packages (from statsmodels) (1.3.4)\n",
      "Requirement already satisfied: numpy>=1.15 in /Users/angelaliang/opt/anaconda3/lib/python3.9/site-packages (from statsmodels) (1.20.3)\n",
      "Requirement already satisfied: python-dateutil>=2.7.3 in /Users/angelaliang/opt/anaconda3/lib/python3.9/site-packages (from pandas>=0.21->statsmodels) (2.8.2)\n",
      "Requirement already satisfied: pytz>=2017.3 in /Users/angelaliang/opt/anaconda3/lib/python3.9/site-packages (from pandas>=0.21->statsmodels) (2023.3.post1)\n",
      "Requirement already satisfied: six in /Users/angelaliang/opt/anaconda3/lib/python3.9/site-packages (from patsy>=0.5->statsmodels) (1.16.0)\n",
      "Note: you may need to restart the kernel to use updated packages.\n"
     ]
    }
   ],
   "source": [
    "pip install statsmodels"
   ]
  },
  {
   "cell_type": "markdown",
   "id": "23938187-f96a-4ba2-810b-e64262a5b2f7",
   "metadata": {},
   "source": [
    "### OLS method"
   ]
  },
  {
   "cell_type": "code",
   "execution_count": 9,
   "id": "0438b380-5030-495b-8202-7d88440dba3f",
   "metadata": {},
   "outputs": [
    {
     "name": "stdout",
     "output_type": "stream",
     "text": [
      "                            OLS Regression Results                            \n",
      "==============================================================================\n",
      "Dep. Variable:                      y   R-squared:                       0.346\n",
      "Model:                            OLS   Adj. R-squared:                  0.342\n",
      "Method:                 Least Squares   F-statistic:                     104.6\n",
      "Date:                Fri, 26 Jan 2024   Prob (F-statistic):           5.59e-20\n",
      "Time:                        14:31:52   Log-Likelihood:                -284.54\n",
      "No. Observations:                 200   AIC:                             573.1\n",
      "Df Residuals:                     198   BIC:                             579.7\n",
      "Df Model:                           1                                         \n",
      "Covariance Type:            nonrobust                                         \n",
      "==============================================================================\n",
      "                 coef    std err          t      P>|t|      [0.025      0.975]\n",
      "------------------------------------------------------------------------------\n",
      "const         -0.0874      0.071     -1.222      0.223      -0.228       0.054\n",
      "x1             0.7753      0.076     10.226      0.000       0.626       0.925\n",
      "==============================================================================\n",
      "Omnibus:                       11.922   Durbin-Watson:                   2.023\n",
      "Prob(Omnibus):                  0.003   Jarque-Bera (JB):               16.685\n",
      "Skew:                           0.387   Prob(JB):                     0.000238\n",
      "Kurtosis:                       4.184   Cond. No.                         1.09\n",
      "==============================================================================\n",
      "\n",
      "Notes:\n",
      "[1] Standard Errors assume that the covariance matrix of the errors is correctly specified.\n",
      "Estimated coefficients (betas):\n",
      "[-0.08738446  0.7752741 ]\n",
      "Standard deviations of the OLS errors:\n",
      "[0.07149629 0.07581425]\n"
     ]
    }
   ],
   "source": [
    "import numpy as np\n",
    "import pandas as pd\n",
    "import statsmodels.api as sm\n",
    "from scipy.stats import norm\n",
    "\n",
    "# read data from csv \n",
    "data = pd.read_csv('problem2.csv')\n",
    "\n",
    "# define variables (converting to list)\n",
    "x = data['x'].values\n",
    "y = data['y'].values\n",
    "\n",
    "# add the constant term\n",
    "x = sm.add_constant(x)\n",
    "\n",
    "# perform the regression and fit the model\n",
    "result = sm.OLS(y,x).fit()\n",
    "\n",
    "# print the summary table\n",
    "print(result.summary())\n",
    "\n",
    "# Get the estimated coefficients (betas)\n",
    "beta = result.params\n",
    "print(\"Estimated coefficients (betas):\")\n",
    "print(beta)\n",
    "\n",
    "# Get the standard deviations of the OLS errors\n",
    "std_errors = result.bse\n",
    "print(\"Standard deviations of the OLS errors:\")\n",
    "print(std_errors)\n"
   ]
  },
  {
   "cell_type": "markdown",
   "id": "1192faa1-5d25-46d1-bcd5-3cd9eb60b8b6",
   "metadata": {},
   "source": [
    "### MLE method and compare with OLS"
   ]
  },
  {
   "cell_type": "code",
   "execution_count": 40,
   "id": "9850d776-51ca-4045-b208-3d0ab6c09247",
   "metadata": {},
   "outputs": [
    {
     "name": "stdout",
     "output_type": "stream",
     "text": [
      "Estimated Betas in MLE: [-0.08737946  0.77523121]\n",
      "Estimated Sigma in MLE: 1.0037674485926553\n",
      "Estimated Betas in OLS: [-0.08738446  0.7752741 ]\n",
      "Estimated Sigma in OLS: 1.003756319417732\n"
     ]
    }
   ],
   "source": [
    "import numpy as np\n",
    "import pandas as pd\n",
    "import statsmodels.api as sm\n",
    "from scipy.stats import norm\n",
    "from scipy.optimize import minimize\n",
    "\n",
    "def myll(params, x, y):\n",
    "    beta = params[:-1]\n",
    "    s = params[-1]\n",
    "    n = len(y)\n",
    "    e = y - np.dot(x, beta)\n",
    "    s2 = s**2\n",
    "    ll = -n/2 * np.log(s2 * 2 * np.pi) - np.dot(e, e) / (2 * s2)\n",
    "    return -ll\n",
    "\n",
    "# Initial guess for parameters\n",
    "initial_params = np.ones(x.shape[1] + 1)\n",
    "\n",
    "# MLE Optimization problem\n",
    "result = minimize(myll, initial_params, args=(x, y), method='Nelder-Mead')\n",
    "\n",
    "# Extracting results\n",
    "estimated_params = result.x[:-1]\n",
    "estimated_sigma = result.x[-1]\n",
    "\n",
    "print(\"Estimated Betas in MLE:\", estimated_params)\n",
    "print(\"Estimated Sigma in MLE:\", estimated_sigma)\n",
    "\n",
    "# OLS estimation\n",
    "model_ols = sm.OLS(y, x)\n",
    "result_ols = model_ols.fit()\n",
    "estimated_params_ols = result_ols.params\n",
    "estimated_sigma_ols = np.std(result_ols.resid)\n",
    "print(\"Estimated Betas in OLS:\", estimated_params_ols)\n",
    "print(\"Estimated Sigma in OLS:\", estimated_sigma_ols)"
   ]
  },
  {
   "cell_type": "markdown",
   "id": "9cdb5cbb-1871-4b27-982c-b006f4670bc7",
   "metadata": {},
   "source": [
    "### MLE for t-distribution of error"
   ]
  },
  {
   "cell_type": "code",
   "execution_count": 24,
   "id": "57d1f3b3-9cef-48e9-a265-ad4e639d5a3f",
   "metadata": {},
   "outputs": [
    {
     "name": "stdout",
     "output_type": "stream",
     "text": [
      "MLE with t-distribution Estimated Betas: [-0.09726888  0.67501031]\n",
      "MLE with t-distribution Estimated Sigma: 0.8551053413594688\n"
     ]
    }
   ],
   "source": [
    "# modify MLE for t-distribution of error \n",
    "from scipy.stats import t\n",
    "\n",
    "def myll_t(params, x, y):\n",
    "    beta = params[:-2]\n",
    "    nu = params[-2]\n",
    "    s = params[-1]\n",
    "    n = len(y)\n",
    "    e = y - np.dot(x, beta)\n",
    "    s2 = s**2\n",
    "    ll = np.sum(t.logpdf(e / s, df=nu) - np.log(s)) # t-distribution \n",
    "    return -ll\n",
    "\n",
    "# Initial guess for parameters\n",
    "initial_params_t = np.ones(x.shape[1] + 2)\n",
    "\n",
    "# MLE Optimization problem with t-distribution assumption\n",
    "result_mle_t = minimize(myll_t, initial_params_t, args=(x, y), method='Nelder-Mead')\n",
    "\n",
    "# Extracting MLE results\n",
    "estimated_params_mle_t = result_mle_t.x[:-2]\n",
    "estimated_nu_mle_t = result_mle_t.x[-2]\n",
    "estimated_sigma_mle_t = result_mle_t.x[-1]\n",
    "\n",
    "print(\"MLE with t-distribution Estimated Betas:\", estimated_params_mle_t)\n",
    "print(\"MLE with t-distribution Estimated Sigma:\", estimated_sigma_mle_t)\n"
   ]
  },
  {
   "cell_type": "markdown",
   "id": "9afeaf06-2e78-4347-9d65-3ce517dfa256",
   "metadata": {},
   "source": [
    "### Calculate AIC BIC for normal and t-distribution error"
   ]
  },
  {
   "cell_type": "code",
   "execution_count": 28,
   "id": "1d04e8d6-54ec-4660-a83b-bcb31f2b5cd0",
   "metadata": {},
   "outputs": [
    {
     "name": "stdout",
     "output_type": "stream",
     "text": [
      "k_normal: 3\n",
      "k_t: 4\n",
      "AIC (Normal): -563.0751264822612\n",
      "BIC (Normal): 1146.068007566218\n",
      "AIC (t-distribution): -554.58680635997\n",
      "BIC (t-distribution): 1149.072922272167\n",
      "Normal distribution error model has a lower AIC.\n",
      "Normal distribution error model has a lower BIC.\n",
      "Thus, normal distribution is a better fit.\n"
     ]
    }
   ],
   "source": [
    "# Calculate AIC and BIC for normal distribution error model\n",
    "n = len(y)\n",
    "k_normal = x.shape[1] + 1\n",
    "print(\"k_normal:\", k_normal)\n",
    "AIC_normal = 2 * k_normal - 2 * result.fun\n",
    "BIC_normal = n * np.log(result.fun) + k_normal * np.log(n)\n",
    "\n",
    "# Calculate AIC and BIC for t-distribution error model\n",
    "k_t = x.shape[1] + 2\n",
    "print(\"k_t:\", k_t)\n",
    "AIC_t = 2 * k_t - 2 * result_mle_t.fun\n",
    "BIC_t = n * np.log(result_mle_t.fun) + k_t * np.log(n)\n",
    "\n",
    "print(\"AIC (Normal):\", AIC_normal)\n",
    "print(\"BIC (Normal):\", BIC_normal)\n",
    "print(\"AIC (t-distribution):\", AIC_t)\n",
    "print(\"BIC (t-distribution):\", BIC_t)\n",
    "\n",
    "# Compare AIC and BIC\n",
    "if AIC_normal < AIC_t:\n",
    "    print(\"Normal distribution error model has a lower AIC.\")\n",
    "else:\n",
    "    print(\"t-distribution error model has a lower AIC.\")\n",
    "    \n",
    "if BIC_normal < BIC_t:\n",
    "    print(\"Normal distribution error model has a lower BIC.\")\n",
    "else:\n",
    "    print(\"t-distribution error model has a lower BIC.\")\n",
    "\n",
    "if AIC_normal < AIC_t and BIC_normal < BIC_t:\n",
    "    print(\"Thus, normal distribution is a better fit.\")\n",
    "else:\n",
    "    print(\"Thus, t-distribution is a better fit.\")"
   ]
  },
  {
   "cell_type": "markdown",
   "id": "f6ee9515-f439-43db-9b8d-dbd0c5000122",
   "metadata": {},
   "source": [
    "### Distribution of X2 and plots\n",
    "Fit the data problem2_x.csv using MLE given X = [X1, X2] follows the multivariate normal distribution. Assume X as a random variable, follows the fitted gaussian distribution, X1 (problem2_xl.csv) are a part of observed value of X, what is the distribution of X2 given each observed value? Plot the expected value along with the 95% confidence interval. "
   ]
  },
  {
   "cell_type": "markdown",
   "id": "fe6278af-84e8-4a07-bb63-b7eb6371be6f",
   "metadata": {},
   "source": [
    "### X follows multivariate normal distribution so that:\n",
    "X ~ N(mu, cov)\\\n",
    "where mu is the (Nx1) vector of expected values\\\n",
    "cov is the (NxN) covariance matrix"
   ]
  },
  {
   "cell_type": "code",
   "execution_count": 43,
   "id": "017e6032-4615-4646-a5a9-d2e163343672",
   "metadata": {},
   "outputs": [
    {
     "data": {
      "image/png": "[encoded data removed]",
      "text/plain": [
       "<Figure size 432x288 with 1 Axes>"
      ]
     },
     "metadata": {
      "needs_background": "light"
     },
     "output_type": "display_data"
    }
   ],
   "source": [
    "import numpy as np\n",
    "import pandas as pd\n",
    "import matplotlib.pyplot as plt\n",
    "from scipy.optimize import minimize\n",
    "from scipy.stats import multivariate_normal\n",
    "\n",
    "# Read data from csv file\n",
    "data_x = pd.read_csv('problem2_x.csv')\n",
    "data_x1 = pd.read_csv('problem2_x1.csv')\n",
    "\n",
    "# Extract X1 and X2 data\n",
    "X1 = data_x['x1'].values\n",
    "X2 = data_x['x2'].values\n",
    "\n",
    "# Define negative log-likelihood function for multivariate normal distribution\n",
    "def neg_log_likelihood(params, X1, X2):\n",
    "    mu1, mu2, sigma1, sigma2, rho = params\n",
    "    cov_matrix = [[sigma1**2, rho * sigma1 * sigma2],\n",
    "                  [rho * sigma1 * sigma2, sigma2**2]]\n",
    "    mvn = multivariate_normal([mu1, mu2], cov_matrix)\n",
    "    \n",
    "    # Stack X1 and X2 to create a matrix of shape (n_samples, n_features)\n",
    "    X = np.column_stack((X1, X2))\n",
    "    \n",
    "    # Compute negative log-likelihood\n",
    "    return -np.sum(mvn.logpdf(X))\n",
    "\n",
    "\n",
    "# Initial guess for parameters\n",
    "initial_params = [0, 0, 1, 1, 0]\n",
    "\n",
    "# MLE Optimization problem\n",
    "result = minimize(neg_log_likelihood, initial_params, args=(X1, X2), method='Nelder-Mead')\n",
    "\n",
    "# Extract MLE parameters\n",
    "mu1, mu2, sigma1, sigma2, rho = result.x\n",
    "\n",
    "# Plotting\n",
    "fig, ax = plt.subplots()\n",
    "ax.plot(X1, X2, 'bo', label='Observed Data')\n",
    "\n",
    "# Compute expected value of X2 given each observed value of X1\n",
    "x1_values = data_x1['x1'].values\n",
    "x2_expected = []\n",
    "for x1_value in x1_values:\n",
    "    mu_conditional = mu2 + rho * sigma2 / sigma1 * (x1_value - mu1)\n",
    "    x2_expected.append(mu_conditional)\n",
    "\n",
    "# Plot expected value of X2 with 95% confidence interval\n",
    "x2_expected = np.array(x2_expected)\n",
    "ax.plot(x1_values, x2_expected, 'r-', label='Expected Value of X2')\n",
    "\n",
    "# Compute 95% confidence interval for X2\n",
    "confidence_interval = 1.96 * np.sqrt(sigma2**2 - (rho * sigma2 / sigma1)**2)\n",
    "upper_bound = x2_expected + confidence_interval\n",
    "lower_bound = x2_expected - confidence_interval\n",
    "\n",
    "# Plot 95% confidence interval\n",
    "ax.fill_between(x1_values, upper_bound, lower_bound, color='gray', alpha=0.2, label='95% Confidence Interval')\n",
    "\n",
    "# Add labels and legend\n",
    "ax.set_xlabel('X1')\n",
    "ax.set_ylabel('X2')\n",
    "ax.set_title('Expected Value of X2 with 95% Confidence Interval')\n",
    "ax.legend()\n",
    "\n",
    "plt.show()\n"
   ]
  },
  {
   "cell_type": "code",
   "execution_count": null,
   "id": "d1d8e5c7-4cb5-4673-998e-84b566bdd6a9",
   "metadata": {},
   "outputs": [],
   "source": []
  }
 ],
 "metadata": {
  "kernelspec": {
   "display_name": "Python 3 (ipykernel)",
   "language": "python",
   "name": "python3"
  },
  "language_info": {
   "codemirror_mode": {
    "name": "ipython",
    "version": 3
   },
   "file_extension": ".py",
   "mimetype": "text/x-python",
   "name": "python",
   "nbconvert_exporter": "python",
   "pygments_lexer": "ipython3",
   "version": "3.9.7"
  }
 },
 "nbformat": 4,
 "nbformat_minor": 5
}

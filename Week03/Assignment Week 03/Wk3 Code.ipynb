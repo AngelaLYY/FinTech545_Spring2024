{
 "cells": [
  {
   "cell_type": "markdown",
   "id": "7314efd9-ddac-4923-a3df-dd72e45bd809",
   "metadata": {},
   "source": [
    "# Week02 Assignment by Angela Liang"
   ]
  },
  {
   "cell_type": "markdown",
   "id": "a486065b-0816-45c6-8aff-b19781bcfdf1",
   "metadata": {},
   "source": [
    "Use the stock returns in DailyReturn.csv for this problem. DailyReturn.csv contains returns for 100 large US stocks and as well as the ETF, SPY which tracks the S&P500.\n",
    "Create a routine for calculating an exponentially weighted covariance matrix. If you have a package that calculates it for you, verify that it calculates the values you expect. This means you still have to implement it. Vary λ∈(0,1). Use PCA and plot the cumulative variance explained by each eigenvalue for each λ chosen.\n",
    "\n",
    "What does this tell us about values of λ and the effect it has on the covariance matrix?"
   ]
  },
  {
   "cell_type": "code",
   "execution_count": null,
   "id": "699a3341-6add-4a39-87bd-90e0b7e884f3",
   "metadata": {},
   "outputs": [],
   "source": [
    "# First parse data \n",
    "# Then, steps for calculating exponentially weighted covariance matrix\n",
    "# the variance for tomorrow is updated based on today's forcast variance and today's deviation from the mean \n",
    "# just in case, typical # trading days to calculate annualized amount is 252 \n",
    "\n",
    "n = 100 # steps \n",
    "for lambda in range(0,1,100):\n",
    "# lambda = 0.97 is the best value found in research \n",
    "\n",
    "# according to the equation \n",
    "veriance[t] = lambda * variance[t-1] + (1-lambda) * ( x[t-1] - x_mean)**2\n",
    "\n",
    "\n",
    "# some function for back substitution \n",
    "\n",
    "# set the weight o a prior observation \n",
    "weight[t-1] = (1-lambda) * lambda**(i-1)\n",
    "\n",
    "# normalize weights so that they sum to 1 \n",
    "weight_normalized[t-i] = weight[t-i]/sum(weight[t-j] for j in range(1,n+1))\n",
    "\n",
    "# find variance and covariance estimator according to equation \n",
    "variance_estimator[t]**2 = sum(weight_estimator[t-1]*(x[t-i]-x_mean)**2 for i in range(1,n+1))\n",
    "covariance_estimator=sum(weight_estimator[t-i]*(x[t-i]-x_mean)*(y[t-i]-y_mean) for i in range(1,n+1))\n",
    "\n",
    "# equal weighting the time series reduces to the MLE values\n"
   ]
  }
 ],
 "metadata": {
  "kernelspec": {
   "display_name": "Python 3 (ipykernel)",
   "language": "python",
   "name": "python3"
  },
  "language_info": {
   "codemirror_mode": {
    "name": "ipython",
    "version": 3
   },
   "file_extension": ".py",
   "mimetype": "text/x-python",
   "name": "python",
   "nbconvert_exporter": "python",
   "pygments_lexer": "ipython3",
   "version": "3.9.7"
  }
 },
 "nbformat": 4,
 "nbformat_minor": 5
}
